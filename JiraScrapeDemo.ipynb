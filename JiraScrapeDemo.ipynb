{
 "cells": [
  {
   "cell_type": "code",
   "execution_count": null,
   "metadata": {
    "scrolled": true
   },
   "outputs": [],
   "source": [
    "### Import statements that \n",
    "import pandas as pd\n",
    "from auth import jiraAuth\n",
    "from jira import JIRA\n",
    "from itertools import tee, islice\n"
   ]
  },
  {
   "cell_type": "code",
   "execution_count": null,
   "metadata": {},
   "outputs": [],
   "source": [
    "### functions for variable access in json results\n",
    "def getAggregateTimeSpent(fields):\n",
    "    return fields['aggregatetimespent']\n",
    "\n",
    "def getIssuetype(fields):\n",
    "    return fields['issuetype']['name']\n",
    "\n",
    "def getTimeSpent(fields):\n",
    "    return fields['timespent']\n",
    "\n",
    "def getProjectKey(fields):\n",
    "    return fields['project']['key']\n",
    "\n",
    "def getProjectName(fields):\n",
    "    return fields['project']['name']\n",
    "\n",
    "def getFixVersion(fields):\n",
    "    return [fixed['name'] for fixed in fields['fixVersions']] if isinstance(fields['fixVersions'],list)else fields['fixVersions']['name']\n",
    "\n",
    "def getResolution(fields):\n",
    "    return '' if fields['resolution'] is None else fields['resolution']['name']\n",
    "\n",
    "def getPriority(fields):\n",
    "    return '' if fields['priority'] is None else fields['priority']['name']\n",
    "\n",
    "def getStatus(fields):\n",
    "    return fields['status'] if isinstance(fields['status'],str) else fields['status']['name']\n",
    "\n",
    "def getAssignee(fields):\n",
    "    return '' if fields['assignee'] is None else fields['assignee']['displayName']\n",
    "\n",
    "def getCreated(fields):\n",
    "    return fields['created']\n",
    "\n",
    "def getCreator(fields):\n",
    "    return '' if fields['creator'] is None else fields['creator']['displayName']"
   ]
  },
  {
   "cell_type": "code",
   "execution_count": null,
   "metadata": {},
   "outputs": [],
   "source": [
    "### Iterator issues and fields and with some field results\n",
    "\n",
    "def extractTicketInfo(results):\n",
    "        data= ((key,\n",
    "                getIssuetype(fields),\n",
    "                getTimeSpent(fields),\n",
    "                getProjectKey(fields),\n",
    "                getProjectName(fields),\n",
    "                getFixVersion(fields),\n",
    "                getAggregateTimeSpent(fields),\n",
    "                getResolution(fields),\n",
    "                fields['resolutiondate'],\n",
    "                fields['workratio'],\n",
    "                fields['lastViewed'],\n",
    "                fields['watches']['watchCount'],\n",
    "                getCreated(fields),\n",
    "                getPriority(fields),\n",
    "                fields['labels'],\n",
    "                fields['timeestimate'],\n",
    "                fields['aggregatetimeoriginalestimate'],\n",
    "                fields['issuelinks'],\n",
    "                getAssignee(fields),\n",
    "                fields['updated'],\n",
    "                getStatus(fields),\n",
    "                [component['name'] for component in fields['components']] if isinstance(fields['components'],list) else fields['components']['name'],\n",
    "                fields['timeoriginalestimate'],\n",
    "                fields['description'],\n",
    "                fields['aggregatetimeestimate'],\n",
    "                fields['summary'],\n",
    "                getCreator(fields)) for key, fields in splitKeyAndFields(results))\n",
    "        return pd.DataFrame(data,columns = ['key','issueType','timeSpent','projectKey','projectName','fixVersion','aggregateTimeSpent','resolution','resulotiondate','workRatio,','lastViewed','watchCount','created','priority','labels','timeEstimate','aggregateTimeOriginalEstimate','issueLink','assignee','updated','status','component','timeOriginalEstimate','description','aggregateTimeEstimate','summary','creator'])\n",
    "\n",
    "def splitKeyAndFields(resultList):\n",
    "        for issue in resultList:\n",
    "            yield issue.key, issue.raw['fields']"
   ]
  },
  {
   "cell_type": "code",
   "execution_count": null,
   "metadata": {},
   "outputs": [],
   "source": [
    "### specifies connection info,  creates a connection. Search for issues and organizes results to a tabular stucture\n",
    "jiraInfo = {'userName' :jiraAuth['userName'],'password': jiraAuth['password'],'jiraLoc':'https://issues.apache.org/jira','jql':' created > startOfweek(-8) and created<=startOfweek(-7)  ORDER BY key ASC'}\n",
    "jiraConn = JIRA(server =jiraInfo['jiraLoc'],basic_auth=(jiraInfo['userName'],jiraInfo['password']))\n",
    "results = jiraConn.search_issues(jiraInfo['jql'],maxResults=False)\n",
    "fullTickets = extractTicketInfo(results)"
   ]
  },
  {
   "cell_type": "code",
   "execution_count": null,
   "metadata": {},
   "outputs": [],
   "source": []
  },
  {
   "cell_type": "code",
   "execution_count": null,
   "metadata": {},
   "outputs": [],
   "source": [
    "#### functions for pulling from change log\n",
    "\n",
    "def pullRawChangelog(jiraInfo):\n",
    "    data = []\n",
    "    jiraConn= JIRA(server =jiraInfo['jiraLoc'],basic_auth=(jiraInfo['userName'],jiraInfo['password']))\n",
    "    results = jiraConn.search_issues(jiraInfo['jql'],maxResults=False, expand='changelog')\n",
    "    for issue in results:\n",
    "        for history in issue.changelog.histories:\n",
    "            for item in history.items:\n",
    "                try:\n",
    "                    data.append((issue.key, history.created, history.author, item.field, item.toString, item.fromString))\n",
    "                except:\n",
    "                    data.append((issue.key, history.created, '', item.field, item.toString, item.fromString))\n",
    "    return pd.DataFrame(data, columns = ['key', 'created','editor','field','toString','fromString'])\n",
    "\n",
    "\n",
    "def constructGenericFieldDurations(breadLevels,changeLogField,fieldfunction, fieldName):\n",
    "    combinedData=pd.concat([breadLevels,changeLogField], axis=0, sort= False).set_index(['key','created'])\n",
    "    raw =[]\n",
    "    for _, new_df in combinedData.groupby(level =0):\n",
    "        rowIter = currentAndNext(new_df.sort_index().drop_duplicates().itertuples())\n",
    "        for row , nextRow in rowIter:\n",
    "            index, author , _ = row\n",
    "            key,timeStart = index\n",
    "            index2, _, data = nextRow\n",
    "            _, timeStop = index2\n",
    "            raw.append((key,timeStart,timeStop,author,data))\n",
    "    return pd.DataFrame(raw, columns =['key','timeStart','timeStop','author',field])\n",
    "\n",
    "\n",
    "\n",
    "def currentAndNext(someIterables): \n",
    "    current, nexts = tee(someIterables)\n",
    "    nexts = islice(nexts,1,None)\n",
    "    return zip(current, nexts)\n",
    "\n",
    "def firstAndLast(results, fieldFunction):\n",
    "   def first(key, fields):\n",
    "       return (key, getCreated(fields),getCreator(fields),'nan')\n",
    "   def last(key,fields):\n",
    "       global jiraServerTime\n",
    "       return (key,jiraServerTime,'nan',fieldFunction(fields))\n",
    "   return pd.DataFrame((funct(key, fields) for funct in (first,last) for key, fields in splitKeyAndFields(results)), columns = ['key','created','editor','fromString'])\n",
    "\n"
   ]
  },
  {
   "cell_type": "code",
   "execution_count": null,
   "metadata": {},
   "outputs": [],
   "source": [
    "jiraConn = JIRA(server =jiraInfo['jiraLoc'],basic_auth=(jiraInfo['userName'],jiraInfo['password']))\n",
    "fieldDict = {'assignee': getAssignee,'priority': getPriority,'status': getStatus}\n",
    "\n",
    "rawChangeLog= pullRawChangelog(jiraInfo)"
   ]
  },
  {
   "cell_type": "code",
   "execution_count": null,
   "metadata": {},
   "outputs": [],
   "source": [
    "### block of cohensive code to pull change log.\n",
    "jiraConn = JIRA(server =jiraInfo['jiraLoc'],basic_auth=(jiraInfo['userName'],jiraInfo['password']))\n",
    "jiraServerTime = jiraConn.server_info()['serverTime']\n",
    "for field , fieldFunct in fieldDict.items():\n",
    "    fieldBreadLevels = firstAndLastv1(results,fieldFunct)\n",
    "    durationFieldData = constructGenericFieldDurations(fieldBreadLevels,rawChangeLog.loc[rawChangeLog['field']==field,['key', 'created','editor','fromString']],fieldFunct,field)\n",
    "    durationFieldData.to_csv(field+'.csv',index = False)\n",
    "\n"
   ]
  },
  {
   "cell_type": "code",
   "execution_count": null,
   "metadata": {},
   "outputs": [],
   "source": [
    "fullTickets.to_csv('ticketData.csv')"
   ]
  },
  {
   "cell_type": "code",
   "execution_count": null,
   "metadata": {},
   "outputs": [],
   "source": []
  },
  {
   "cell_type": "code",
   "execution_count": null,
   "metadata": {},
   "outputs": [],
   "source": []
  }
 ],
 "metadata": {
  "kernelspec": {
   "display_name": "Python 3",
   "language": "python",
   "name": "python3"
  },
  "language_info": {
   "codemirror_mode": {
    "name": "ipython",
    "version": 3
   },
   "file_extension": ".py",
   "mimetype": "text/x-python",
   "name": "python",
   "nbconvert_exporter": "python",
   "pygments_lexer": "ipython3",
   "version": "3.7.4"
  }
 },
 "nbformat": 4,
 "nbformat_minor": 2
}
